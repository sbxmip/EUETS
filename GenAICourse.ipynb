{
 "cells": [
  {
   "cell_type": "code",
   "execution_count": 4,
   "metadata": {},
   "outputs": [
    {
     "name": "stdout",
     "output_type": "stream",
     "text": [
      "cardiffnlp/twitter-roberta-base-sentiment-latest, 67925830\n",
      "\n",
      "mrm8488/distilroberta-finetuned-financial-news-sentiment-analysis, 19223170\n",
      "\n",
      "distilbert/distilbert-base-uncased-finetuned-sst-2-english, 8815858\n",
      "\n",
      "smilegate-ai/kor_unsmile, 7954050\n",
      "\n",
      "cardiffnlp/twitter-roberta-base-sentiment, 3120218\n",
      "\n"
     ]
    }
   ],
   "source": [
    "from huggingface_hub import list_models\n",
    "def list_most_popular(task: str):\n",
    "    for rank, model in enumerate(\n",
    "        list_models(filter=task, sort=\"downloads\", direction=-1)\n",
    "):\n",
    "        if rank == 5:\n",
    "            break\n",
    "        print(f\"{model.id}, {model.downloads}\\n\")\n",
    "list_most_popular(\"text-classification\")"
   ]
  },
  {
   "cell_type": "code",
   "execution_count": null,
   "metadata": {},
   "outputs": [],
   "source": []
  },
  {
   "cell_type": "code",
   "execution_count": 9,
   "metadata": {},
   "outputs": [
    {
     "name": "stderr",
     "output_type": "stream",
     "text": [
      "All model checkpoint layers were used when initializing TFRobertaForSequenceClassification.\n",
      "\n",
      "All the layers of TFRobertaForSequenceClassification were initialized from the model checkpoint at cardiffnlp/twitter-roberta-base-sentiment.\n",
      "If your task is similar to the task the model of the checkpoint was trained on, you can already use TFRobertaForSequenceClassification for predictions without further training.\n"
     ]
    },
    {
     "name": "stdout",
     "output_type": "stream",
     "text": [
      "[{'label': 'LABEL_0', 'score': 0.9448865056037903}]\n"
     ]
    }
   ],
   "source": [
    "from transformers import pipeline\n",
    "customer_email = \"\"\"\n",
    "I am writing to pour my heart out about the recent unfortunate experience I had with one of your coffee machines that arrived broken. I anxiously unwrapped the box containing my highly anticipated coffee machine. However, what I discovered within broke not only my spirit but also any semblance of confidence I had placed in your brand.\n",
    "I am extremely mad and would like to kille myself.\n",
    "\"\"\"\n",
    "sentiment_model = pipeline(\n",
    "    task=\"sentiment-analysis\",\n",
    "    model=\"cardiffnlp/twitter-roberta-base-sentiment\"\n",
    ")\n",
    "print(sentiment_model(customer_email))"
   ]
  },
  {
   "cell_type": "code",
   "execution_count": 10,
   "metadata": {},
   "outputs": [
    {
     "data": {
      "text/plain": [
       "'I am writing to pour my heart out about the recent unfortunate experience I had with one of your coffee machines that arrived broken. I anxiously unwrapped the box containing my highly anticipated coffee machine. What I discovered within broke not only my spirit but also any semblance of confidence I had placed in your brand. I am extremely mad and would like to kille myself.'"
      ]
     },
     "execution_count": 10,
     "metadata": {},
     "output_type": "execute_result"
    }
   ],
   "source": [
    "from langchain import HuggingFaceHub\n",
    "summarizer = HuggingFaceHub(\n",
    "    repo_id=\"facebook/bart-large-cnn\",\n",
    "    model_kwargs={\"temperature\":0, \"max_length\":180}\n",
    ")\n",
    "def summarize(llm, text) -> str:\n",
    "    return llm(f\"Summarize this: {text}!\")\n",
    "summarize(summarizer, customer_email)"
   ]
  },
  {
   "cell_type": "code",
   "execution_count": 11,
   "metadata": {},
   "outputs": [
    {
     "name": "stderr",
     "output_type": "stream",
     "text": [
      "c:\\Users\\sbxmip\\AppData\\Local\\Programs\\Python\\Python311\\Lib\\site-packages\\langchain_core\\_api\\deprecation.py:117: LangChainDeprecationWarning: The class `langchain_community.llms.openai.OpenAI` was deprecated in langchain-community 0.0.10 and will be removed in 0.2.0. An updated version of the class exists in the langchain-openai package and should be used instead. To use it run `pip install -U langchain-openai` and import as `from langchain_openai import OpenAI`.\n",
      "  warn_deprecated(\n",
      "c:\\Users\\sbxmip\\AppData\\Local\\Programs\\Python\\Python311\\Lib\\site-packages\\langchain_core\\_api\\deprecation.py:117: LangChainDeprecationWarning: The function `run` was deprecated in LangChain 0.1.0 and will be removed in 0.2.0. Use invoke instead.\n",
      "  warn_deprecated(\n"
     ]
    },
    {
     "name": "stdout",
     "output_type": "stream",
     "text": [
      "\n",
      "\n",
      "\u001b[1m> Entering new LLMCheckerChain chain...\u001b[0m\n",
      "\n",
      "\n",
      "\u001b[1m> Entering new SequentialChain chain...\u001b[0m\n",
      "\n",
      "\u001b[1m> Finished chain.\u001b[0m\n",
      "\n",
      "\u001b[1m> Finished chain.\u001b[0m\n"
     ]
    },
    {
     "data": {
      "text/plain": [
       "\" The echidna, found in Australia and New Guinea, is the only mammal known to lay eggs. The female echidna lays a single egg, which is about 0.6 inches (1.5 cm) in diameter and 2.4 inches (6 cm) long. This is the largest egg laid by any mammal. The egg is incubated in a pouch on the mother's belly for approximately 10 days before hatching. Other mammals give birth to live young.\""
      ]
     },
     "execution_count": 11,
     "metadata": {},
     "output_type": "execute_result"
    }
   ],
   "source": [
    "from langchain.chains import LLMCheckerChain\n",
    "from langchain.llms import OpenAI\n",
    "llm = OpenAI(temperature=0.7)\n",
    "text = \"What type of mammal lays the biggest eggs?\"\n",
    "checker_chain = LLMCheckerChain.from_llm(llm, verbose=True)\n",
    "checker_chain.run(text)"
   ]
  },
  {
   "cell_type": "code",
   "execution_count": 14,
   "metadata": {},
   "outputs": [
    {
     "name": "stdout",
     "output_type": "stream",
     "text": [
      "\n",
      "\n",
      "- Gemeenteraadsvergadering gehouden op 2 januari 2013\n",
      "- Aanwezig: Sonja Claes, uittredend voorzitter tot en met agendapunt 5, vervolgens als raadslid; Marc Swevers, raadslid tot en met agendapunt 5, vervolgens voorzitter vanaf agendapunt 6\n",
      "- Mario Borremans, burgemeester; Bruno Buyse, Peter Tielens, Danny Vanoppen, Marleen Hoydonckx, Engin Ozdemir, Robin Stroobants, Jeanne Gijsen-Prikken, schepenen\n",
      "- Tony Beerten, Marie-Josée Maris-Vanluyd, Simonne Janssens-Vanoppen, Lode Schops, Albert Palmers, Sonja Claes, Isabelle Thielemans, Dirk Schops, Jan Jans, Marc Swevers, Veronique Bartels, Ann Leyssens, Joris Van Ende, Funda Oru, Elke Gijbels, Nico Geeraerts, Ria Feyen, Corinna Nijs, Sole Garcia,\n"
     ]
    }
   ],
   "source": [
    "text = \"GEMEENTERAADSVERGADERING VAN 02 JANUARI 2013 OVERZICHTSLIJST AANWEZIG : Sonja Claes, uittredend voorzitter tot en met agendapunt 5, vervolgens als raadslid; Marc Swevers, raadslid tot en met agendapunt 5, vervolgens voorzitter vanaf agendapunt 6; Mario Borremans, burgemeester; Bruno Buyse, Peter Tielens, Danny Vanoppen, Marleen Hoydonckx, Engin Ozdemir, Robin Stroobants, Jeanne Gijsen-Prikken, schepenen; Tony Beerten, Marie-Josée Maris-Vanluyd, Simonne Janssens-Vanoppen, Lode Schops, Albert Palmers, Sonja Claes, Isabelle Thielemans, Dirk Schops, Jan Jans, Marc Swevers, Veronique Bartels, Ann Leyssens, Joris Van Ende, Funda Oru, Elke Gijbels, Nico Geeraerts, Ria Feyen, Corinna Nijs, Sole Garcia, Annette Palmers, Kristof Was, Martine Vrancken, gemeenteraadsleden; de heer Yvo Aerts, gemeentesecretaris. VERONTSCHULDIGD : Selahattin Özer, gemeenteraadslid OPENBARE VERGADERING : 01. Mededelingen De raad neemt kennis van de volgende mededelingen: - Het in te vullen formulier om te bepalen op welke wijze het raadslid de verslagen van de gemeenteraad en het college wil krijgen; - badges en gebruiksaanwijzing. 02. Secretariaat en juridische zaken: kennisneming geldigverklaring gemeenteraadsverkiezingen De gemeenteraad neemt kennis van de geldigverklaring van de gemeenteraadsverkiezingen van 14 oktober 2012. 03. Secretariaat en juridische zaken: mededeling van de benoeming en van de eedaflegging van de burgemeester De raad neemt kennis van de brief van het agentschap voor binnenlands bestuur, afdeling lokale en provinciale besturen regelgeving en wetgeving van 13 december 2012 met in bijlage het ministerieel besluit van 13 december 2012 houdende de benoeming van de heer Mario Borremans tot burgemeester van de gemeente Heusden-Zolder met ingang vanaf 1 januari 2013 voor een periode van zes jaar. De raad neemt tevens kennis van de brief van 19 december 2012 van het agentschap voor binnenlands bestuur, afdeling Limburg, houdende de mededeling van de eedaflegging van de heer Mario Borremans als burgemeester in handen van de provinciegouverneur van Limburg op 18 december 2012. 04. Secretariaat en juridische zaken: installatie gemeenteraadsleden, eedaflegging en bepaling van de rangorde A. Onderzoek geloofsbrieven – onverenigbaarheden en onverkiesbaarheden – afstand van mandaat A.1. Afstand van mandaat van de heer Jos Driesen Bij brief van 7 november 2012 gericht aan de gemeente door de heer Jos Driesen, tot raadslid-titularis gekozen, brengt hij ter kennis van de raad dat hij afstand doet van zijn mandaat van gemeenteraadslid. Aangezien mevrouw Martine Vrancken als eerste opvolger voorkomt op de lijst nr. 4 sp.a, dit is dezelfde lijst waartoe de kandidaat behoort die van het raadslidmaatschap afstand doet; Beslist de raad unaniem: mevrouw Martine Vrancken onmiddellijk tot de vergadering toe te laten. De geloofsbrieven van de opvolger worden eveneens onderzocht. A.2. Afstand van mandaat van mevrouw Anita Beutels Bij brief van 19 november 2012 gericht aan de gemeente door mevrouw Anita Beutels, tot raadslid titularis gekozen, brengt zij ter kennis van de raad dat zij afstand doet van haar mandaat van gemeenteraadslid. Aangezien de heer Kristof Was als eerste opvolger voorkomt op de lijst nr. 7 CD&V-Plus, dit is dezelfde lijst waartoe de kandidaat behoort die van het raadslidmaatschap afstand doet; Beslist de raad unaniem: de heer Kristof Was onmiddellijk tot de vergadering toe te laten. De geloofsbrieven van de opvolger worden eveneens onderzocht. A.3. Afstand van mandaat van de heer Marc Vanderstraeten Bij brief van 10 december 2012 gericht aan de gemeente door de heer Marc Vanderstraeten, tot raadslid titularis gekozen, brengt hij ter kennis van de raad dat hij\"\n",
    "from langchain import PromptTemplate, OpenAI\n",
    "from langchain.schema import StrOutputParser\n",
    "llm = OpenAI()\n",
    "prompt = PromptTemplate.from_template(\n",
    "    \"Summarize this text in 10 bullet points: {text}?\"\n",
    ")\n",
    "runnable = prompt | llm | StrOutputParser()\n",
    "summary = runnable.invoke({\"text\": text})\n",
    "print(summary)"
   ]
  },
  {
   "cell_type": "code",
   "execution_count": 15,
   "metadata": {},
   "outputs": [
    {
     "name": "stdout",
     "output_type": "stream",
     "text": [
      "\n",
      "\n",
      "Why did the light bulb go to therapy?\n",
      "Because it was feeling a little dim!\n",
      "Total Tokens: 26\n",
      "Prompt Tokens: 8\n",
      "Completion Tokens: 18\n",
      "Total Cost (USD): $4.8e-05\n"
     ]
    }
   ],
   "source": [
    "from langchain import OpenAI, PromptTemplate\n",
    "from langchain.callbacks import get_openai_callback\n",
    "llm_chain = PromptTemplate.from_template(\"Tell me a joke about {topic}!\") | OpenAI()\n",
    "with get_openai_callback() as cb:\n",
    "    response = llm_chain.invoke(dict(topic=\"light bulbs\"))\n",
    "    print(response)\n",
    "    print(f\"Total Tokens: {cb.total_tokens}\")\n",
    "    print(f\"Prompt Tokens: {cb.prompt_tokens}\")\n",
    "    print(f\"Completion Tokens: {cb.completion_tokens}\")\n",
    "    print(f\"Total Cost (USD): ${cb.total_cost}\")"
   ]
  }
 ],
 "metadata": {
  "kernelspec": {
   "display_name": "Python 3",
   "language": "python",
   "name": "python3"
  },
  "language_info": {
   "codemirror_mode": {
    "name": "ipython",
    "version": 3
   },
   "file_extension": ".py",
   "mimetype": "text/x-python",
   "name": "python",
   "nbconvert_exporter": "python",
   "pygments_lexer": "ipython3",
   "version": "3.11.5"
  }
 },
 "nbformat": 4,
 "nbformat_minor": 2
}

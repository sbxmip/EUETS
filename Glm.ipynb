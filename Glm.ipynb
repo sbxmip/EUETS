{
 "cells": [
  {
   "cell_type": "code",
   "execution_count": 3,
   "metadata": {},
   "outputs": [],
   "source": [
    "import os\n",
    "import swat\n",
    "import getpass\n",
    "from sasctl import Session\n",
    "from sasctl.tasks import register_model, publish_model\n"
   ]
  },
  {
   "cell_type": "markdown",
   "metadata": {},
   "source": [
    "Connect to SAS platform"
   ]
  },
  {
   "cell_type": "code",
   "execution_count": 4,
   "metadata": {},
   "outputs": [],
   "source": [
    "password = getpass.getpass ('Enter your password : ')\n",
    "hostname = \"https://viya4-s2.zeus.sashq-d.openstack.sas.com/\"\n",
    "os.environ[\"CAS_CLIENT_SSL_CA_LIST\"] = r\"C:\\Users\\sbxmip\\.vscode\\trustedcerts.pem\"\n",
    "conn = swat.CAS('https://viya4-s2.zeus.sashq-d.openstack.sas.com/cas-shared-default-http', username='sbxmip',password=password)\n",
    "Session(hostname, 'sbxmip', password)\n"
   ]
  },
  {
   "cell_type": "markdown",
   "metadata": {},
   "source": [
    "Perform Simple Table Operations"
   ]
  },
  {
   "cell_type": "code",
   "execution_count": 7,
   "metadata": {},
   "outputs": [],
   "source": [
    "EU_ETS_tbl = conn.CASTable('EU_ETS_CURATED', caslib='EBA')\n",
    "EU_ETS_tbl.columnInfo()\n",
    "EU_ETS_tbl.head(5)"
   ]
  },
  {
   "cell_type": "markdown",
   "metadata": {},
   "source": [
    "Fit a linear regression model using the GLM Action set"
   ]
  },
  {
   "cell_type": "code",
   "execution_count": null,
   "metadata": {},
   "outputs": [],
   "source": [
    "conn.loadActionSet('regression')\n",
    "conn.regression.glm( \n",
    "    table = dict(name = EU_ETS_tbl, where = 'year_comp = 2021'), \n",
    "    classVars=['Country_id','nace_desc','activity_desc'],\n",
    "    model={'depVar':'verified',\n",
    "                   'effects':['Country_id', 'activity_desc', 'nace_desc']\n",
    "                  },\n",
    "    store = dict(name='reg_model', replace=True),\n",
    "    selection = {\"method\":\"BACKWARD\"}\n",
    ")\n"
   ]
  },
  {
   "cell_type": "markdown",
   "metadata": {},
   "source": [
    "Register and Publish GLM Model"
   ]
  },
  {
   "cell_type": "code",
   "execution_count": null,
   "metadata": {},
   "outputs": [],
   "source": [
    "astore = conn.CASTable('reg_model')\n",
    "model = register_model(astore, 'Glm_2021_back', 'Digit Project', force=True)\n",
    "module = publish_model(model, 'maslocal')\n"
   ]
  },
  {
   "cell_type": "markdown",
   "metadata": {},
   "source": [
    "Score first row"
   ]
  },
  {
   "cell_type": "code",
   "execution_count": null,
   "metadata": {},
   "outputs": [],
   "source": [
    "# Pass a row of data to MAS and receive the predicted result.\n",
    "first_row = EU_ETS_tbl.head(1)\n",
    "result = module.score(first_row)\n",
    "print(result)"
   ]
  }
 ],
 "metadata": {
  "kernelspec": {
   "display_name": "Python 3",
   "language": "python",
   "name": "python3"
  },
  "language_info": {
   "codemirror_mode": {
    "name": "ipython",
    "version": 3
   },
   "file_extension": ".py",
   "mimetype": "text/x-python",
   "name": "python",
   "nbconvert_exporter": "python",
   "pygments_lexer": "ipython3",
   "version": "3.11.5"
  }
 },
 "nbformat": 4,
 "nbformat_minor": 2
}
